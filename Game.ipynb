{
 "cells": [
  {
   "cell_type": "code",
   "execution_count": null,
   "metadata": {},
   "outputs": [],
   "source": [
    "### DO NOT CHANGE CODE IN THIS BLOCK ###\n",
    "import random\n",
    "\n",
    "# Enemies defined in different dictionaries\n",
    "vampire = {\"name\": \"Vampire\", \"attack\":\"1d5\", \"defense\": \"1d3\", \"maxhp\":50, \"curhp\":50 }\n",
    "goblin = {\"name\": \"Goblin\", \"attack\":\"1d3\", \"defense\": \"1d1\", \"maxhp\":30, \"curhp\":30 }\n",
    "ghost = {\"name\": \"Ghost\", \"attack\":\"1d5\", \"defense\": \"1d5\", \"maxhp\":50, \"curhp\":50 }\n",
    "dracula = {\"name\": \"Dracula\", \"attack\":\"2d5\", \"defense\": \"1d4\", \"maxhp\":200, \"curhp\":200 }\n",
    "\n",
    "# A LIST of DICTIONARIES for enemies\n",
    "enemies = [vampire, goblin, ghost, dracula]\n",
    "\n",
    "# Player dictionary\n",
    "player = {\"name\":\"\", \"attack\":\"2d5\", \"defense\": \"1d3\", \"maxhp\":200, \"curhp\":200}\n"
   ]
  },
  {
   "cell_type": "code",
   "execution_count": null,
   "metadata": {},
   "outputs": [],
   "source": [
    "###########################################\n",
    "# START YOUR CODE BELOW THIS LINE\n",
    "###########################################\n",
    "\n",
    "def do_battle(player, enemy):\n",
    "    # Fill in the rest of this function\n",
    "    # NEW INFO: This function calls get_damage() twice, once for player and once for enemy\n",
    "    \n",
    "    flag = \"true\"\n",
    "    while(flag == \"true\"):\n",
    "        \n",
    "        # Damage done by Player\n",
    "        player_attack = get_damage(player['attack'],enemy['attack'])\n",
    "        print(player['name'],\" does \",player_attack,\" damage to \",enemy['name'])\n",
    "    \n",
    "        #Damage done by enemy\n",
    "        enemy_attack = get_damage(enemy['attack'],player['attack'])\n",
    "        print(enemy['name'],\" does \",enemy_attack,\" damage to \",player['name'])\n",
    "        \n",
    "        # Calculating their current hps\n",
    "        player['curhp'] = player['curhp'] - enemy_attack\n",
    "        enemy['curhp'] = enemy['curhp'] - player_attack\n",
    "        \n",
    "        print(player['name'],\" hp:\",player['curhp'])\n",
    "        print(enemy['name'],\" hp:\",enemy['curhp'])\n",
    "        \n",
    "        if (player['curhp'] <= 0):\n",
    "            flag = \"false\"\n",
    "            return False \n",
    "        elif(enemy['curhp'] <=0):\n",
    "            flag = \"false\"\n",
    "            return True\n",
    "        \n",
    "    return False\n",
    "    \n",
    "    \n",
    "    "
   ]
  },
  {
   "cell_type": "code",
   "execution_count": null,
   "metadata": {},
   "outputs": [],
   "source": [
    "def get_damage(attack, defense):\n",
    "    # Fill in the rest of this function\n",
    "    # NEW INFO: This function calls get_roll() twice, once for the attack roll and once for the defense roll\n",
    "    \n",
    "    # Attack Hp\n",
    "    attack_roll = get_roll(attack)\n",
    "    \n",
    "    # Defense Hp\n",
    "    defense_roll = get_roll(defense)\n",
    "    \n",
    "    if defense_roll> attack_roll:\n",
    "        return 0 \n",
    "    else:\n",
    "        return attack_roll - defense_roll\n",
    "        "
   ]
  },
  {
   "cell_type": "code",
   "execution_count": null,
   "metadata": {},
   "outputs": [],
   "source": [
    "def get_roll(rollstring):\n",
    "    # Fill in the rest of this function\n",
    "    # HINT: split() and randint()\n",
    "    \n",
    "    # Splitting the string to get number of dices and number of sides\n",
    "    num = rollstring.split(\"d\")\n",
    "    total = 0\n",
    "    \n",
    "    # Loop for number of Dices\n",
    "    for i in range(0, int(num[0])):\n",
    "        # Generating a random integer between 1 and number of sides and adding to create a total\n",
    "        total = total+ random.randint(1,int(num[1]))\n",
    "    return total\n"
   ]
  },
  {
   "cell_type": "code",
   "execution_count": null,
   "metadata": {},
   "outputs": [],
   "source": [
    "# This is a complete function; do not modify\n",
    "def main_menu_goto_battle():\n",
    "    enemy = enemies[random.randint(0,len(enemies)-1)]\n",
    "    if do_battle(player, enemy):\n",
    "        print(f\"The {enemy['name']} has died, hurray!\")\n",
    "        enemy['curhp'] = enemy['maxhp']\n",
    "        input(\"Press enter to return home\")\n",
    "    else:\n",
    "        print(f\"Oh no! {player['name']}\")\n",
    "\n",
    "    return\n",
    "\n"
   ]
  },
  {
   "cell_type": "code",
   "execution_count": null,
   "metadata": {},
   "outputs": [],
   "source": [
    "# This is a complete function; do not modify\n",
    "def main_menu_heal():\n",
    "    print(f\"The player takes rest under a healing fountain. HP restored!\")\n",
    "    player['curhp'] = player['maxhp']\n",
    "    input(\"Press enter to return home\")\n",
    "    return\n",
    "\n"
   ]
  },
  {
   "cell_type": "code",
   "execution_count": null,
   "metadata": {},
   "outputs": [],
   "source": [
    "# This is a complete function; do not modify\n",
    "def main_menu():\n",
    "    # Player dies if player HP reaches 0 or less\n",
    "    while player['curhp'] > 0:\n",
    "        # Display menu\n",
    "        print(f\"{player['name']} currently has {player['curhp']} hp\\n\")\n",
    "        print(\"1 : Go to Battle\")\n",
    "        print(\"2 : Heal\")\n",
    "\n",
    "        x = input(\"What to do next > \")\n",
    "        # Get input from player\n",
    "        if x ==\"1\":\n",
    "            main_menu_goto_battle()\n",
    "        elif x==\"2\":\n",
    "            main_menu_heal()\n",
    "        else:\n",
    "            print(\"No such action\")\n",
    "\n",
    "    print(\"Player is dead!\")"
   ]
  },
  {
   "cell_type": "code",
   "execution_count": null,
   "metadata": {},
   "outputs": [],
   "source": [
    "###### DO NOT CHANGE THIS CODE #########\n",
    "player['name'] = input(\"What is the player's name? \")\n",
    "main_menu()\n",
    "########################################"
   ]
  }
 ],
 "metadata": {
  "kernelspec": {
   "display_name": "Python 3",
   "language": "python",
   "name": "python3"
  },
  "language_info": {
   "codemirror_mode": {
    "name": "ipython",
    "version": 3
   },
   "file_extension": ".py",
   "mimetype": "text/x-python",
   "name": "python",
   "nbconvert_exporter": "python",
   "pygments_lexer": "ipython3",
   "version": "3.8.3"
  }
 },
 "nbformat": 4,
 "nbformat_minor": 4
}
